





import pandas as pd
from sklearn.preprocessing import MinMaxScaler

# Import dataset
file_path = '/Users/allig/ads500b/house_sales.csv'  # file path
data = pd.read_csv(file_path)

# Describe dataset characteristics
print("Dataset Dimensions:", data.shape)
print("\nData Types:\n", data.dtypes)
print("\nFirst few rows of the dataset:\n", data.head())
print("\nDataset Description:\n", data.describe())

# Clean and wrangle data
# Fill missing values with the median for continuous variables
data['bedrooms'] = data['bedrooms'].fillna(data['bedrooms'].median())
data['bathrooms'] = data['bathrooms'].fillna(data['bathrooms'].median())
data['sqft_living'] = data['sqft_living'].fillna(data['sqft_living'].median())
data['sqft_lot'] = data['sqft_lot'].fillna(data['sqft_lot'].median())

# Transform data
# Convert `date` to datetime format
data['date'] = pd.to_datetime(data['date'], format='%Y%m%dT%H%M%S')

# Normalize continuous variables and create new columns for normalized values
scaler = MinMaxScaler()
data[['norm_price', 'norm_sqft_living', 'norm_sqft_lot', 'norm_sqft_above', 'norm_sqft_basement', 
      'norm_lat', 'norm_long', 'norm_sqft_living15', 'norm_sqft_lot15']] = scaler.fit_transform(
    data[['price', 'sqft_living', 'sqft_lot', 'sqft_above', 'sqft_basement', 'lat', 'long', 
          'sqft_living15', 'sqft_lot15']]
)

# Feature construction based on existing ones- 'age' & 'years_since_renovation'
data['age'] = 2024 - data['yr_built']
data['years_since_renovation'] = data['yr_renovated'].apply(lambda x: 2024 - x if x > 0 else 0)

# Reduce redundant data
# Drop redundant columns
data = data.drop(columns=['id', 'yr_built', 'yr_renovated'])

# Discretization: Create bins for sqft_living
data['sqft_living_bins'] = pd.cut(data['sqft_living'], bins=5, labels=False)

# Display cleaned and transformed data
print("\nCleaned and Transformed Data (first few rows):\n", data.head())

# Save the cleaned and transformed data to a new CSV file
output_file_path = '/Users/allig/ads500b/cleaned_house_sales.csv'
data.to_csv(output_file_path, index=False)
print(f"Cleaned and transformed dataset has been saved to {output_file_path}")



